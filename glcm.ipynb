{
 "metadata": {
  "language_info": {
   "codemirror_mode": {
    "name": "ipython",
    "version": 3
   },
   "file_extension": ".py",
   "mimetype": "text/x-python",
   "name": "python",
   "nbconvert_exporter": "python",
   "pygments_lexer": "ipython3",
   "version": "3.7.7-final"
  },
  "orig_nbformat": 2,
  "kernelspec": {
   "name": "python3",
   "display_name": "Python 3"
  }
 },
 "nbformat": 4,
 "nbformat_minor": 2,
 "cells": [
  {
   "cell_type": "code",
   "execution_count": 174,
   "metadata": {},
   "outputs": [],
   "source": [
    "import numpy as np\n",
    "import collections as cl\n",
    "import math\n",
    "import cv2"
   ]
  },
  {
   "cell_type": "code",
   "execution_count": 295,
   "metadata": {},
   "outputs": [
    {
     "output_type": "stream",
     "name": "stdout",
     "text": [
      "\ncontras\n\n5.666666666666667\n\nenergy\n\n0.22222222222222227\n\nhomogen\n\n0.3055555555555555\n\nentropy\n\n1.5607104090414063\n\ncorrelation\n\n-0.055470019622522876\n"
     ]
    }
   ],
   "source": [
    "data =np.array([[3,5,7],[2,4,1],[6,3,5]])\n",
    "# unique,counts= np.unique(data,return_counts=True)\n",
    "# result = dict(zip(unique,counts))    \n",
    "h,w = data.shape  \n",
    "result = check_value(data,h,w)\n",
    "result = np.array(result)\n",
    "print('cek :', result)\n",
    "h,w = result.shape\n",
    "sama = np.array([3,5])\n",
    "val_sama = 0\n",
    "beda = []\n",
    "val_beda =0\n",
    "glcm = np.unique(result,return_counts=True,axis=0)\n",
    "count_glcm = np.sum(glcm[1])\n",
    "avg_glcm= glcm[1]/count_glcm\n",
    "data = {'key':glcm[0],'val':glcm[1],'norm':avg_glcm}\n",
    "print('\\ncontras\\n')\n",
    "contrast(data)\n",
    "print('\\nenergy\\n')\n",
    "energy(data)\n",
    "print('\\nhomogen\\n')\n",
    "homogeneity(data)\n",
    "print('\\nentropy\\n')\n",
    "entropy(data)\n",
    "print('\\ncorrelation\\n')\n",
    "correlation(data)\n"
   ]
  },
  {
   "cell_type": "code",
   "execution_count": 294,
   "metadata": {},
   "outputs": [],
   "source": [
    "def check_value(data,h,w):\n",
    "    first = []\n",
    "    for i in range(0,h):\n",
    "        for j in range(0,w):\n",
    "            try:\n",
    "                first.append([data[i,j],data[i,j+1]])\n",
    "            except:\n",
    "                pass\n",
    "    return first\n",
    "def contrast(data):\n",
    "    result = 0\n",
    "    for i in range(len(data['key'])):\n",
    "        contrast = 0\n",
    "        baris,kolom = data['key'][i]\n",
    "        contrast = ((baris-kolom)**2) * data['norm'][i]\n",
    "        result +=contrast\n",
    "    print(result)\n",
    "\n",
    "def energy(data):\n",
    "    result = 0\n",
    "    for i in range(len(data['key'])):\n",
    "        energy = 0\n",
    "        energy = (data['norm'][i])**2\n",
    "        result += energy\n",
    "    print(result)\n",
    "    \n",
    "def ketetapan(data):\n",
    "    if(data<0):\n",
    "        data = data *-1\n",
    "    else:\n",
    "        data\n",
    "    return data\n",
    "def homogeneity(data):\n",
    "    result = 0\n",
    "    for i in range(len(data['key'])):\n",
    "        homogeneiti = 0\n",
    "        baris,kolom = data['key'][i]\n",
    "        homogeneiti = (data['norm'][i])/(1+ketetapan(baris-kolom))\n",
    "        result += homogeneiti\n",
    "    print(result)\n",
    "\n",
    "def entropy(data):\n",
    "    result = 0\n",
    "    for i in range(len(data['key'])):\n",
    "        entropy = 0\n",
    "        entropy = (-(data['norm'][i]))*(math.log(data['norm'][i]))\n",
    "        result += entropy\n",
    "    print(result)\n",
    "\n",
    "def correlation(data):\n",
    "    result = 0\n",
    "    rerata_baris = 0\n",
    "    rerata_kolom = 0\n",
    "    dev_baris= 0\n",
    "    dev_kolom =0\n",
    "    res_baris= 0\n",
    "    res_kolom =0\n",
    "    jumlah_kemunculan = np.sum(data['val'])\n",
    "    \n",
    "    for i in range(len(data['key'])):\n",
    "        baris,kolom = data['key'][i]\n",
    "        rerata_baris += baris*data['val'][i]\n",
    "        rerata_kolom += kolom*data['val'][i]\n",
    "\n",
    "    rerata_baris=rerata_baris/jumlah_kemunculan\n",
    "    rerata_kolom=rerata_kolom/jumlah_kemunculan\n",
    "\n",
    "    for i in range(len(data['key'])):\n",
    "        baris,kolom = data['key'][i]\n",
    "        dev_baris = (baris-rerata_baris)**2 * data['norm'][i]\n",
    "        dev_kolom = (kolom-rerata_kolom)**2 * data['norm'][i]\n",
    "        res_baris += dev_baris\n",
    "        res_kolom += dev_kolom\n",
    "\n",
    "    res_baris = np.sqrt(res_baris)\n",
    "    res_kolom = np.sqrt(res_kolom)\n",
    "\n",
    "    for i in range(len(data['key'])):\n",
    "        baris,kolom = data['key'][i]\n",
    "        correlation = ((baris-rerata_baris)*(kolom-rerata_kolom)*(data['norm'][i])) / (res_baris * res_kolom)\n",
    "        result += correlation\n",
    "        # print(correlation)\n",
    "\n",
    "    print(result)\n"
   ]
  },
  {
   "cell_type": "code",
   "execution_count": 34,
   "metadata": {},
   "outputs": [
    {
     "output_type": "stream",
     "name": "stdout",
     "text": [
      "[3, 5]\n[5, 7]\n[7, 2]\n[2, 4]\n[4, 1]\n[1, 2]\n[6, 3]\n[3, 5]\n[5, 2]\n"
     ]
    }
   ],
   "source": []
  },
  {
   "cell_type": "code",
   "execution_count": null,
   "metadata": {},
   "outputs": [],
   "source": []
  },
  {
   "cell_type": "code",
   "execution_count": null,
   "metadata": {},
   "outputs": [],
   "source": []
  }
 ]
}