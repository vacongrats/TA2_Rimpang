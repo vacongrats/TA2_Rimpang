{
 "metadata": {
  "language_info": {
   "codemirror_mode": {
    "name": "ipython",
    "version": 3
   },
   "file_extension": ".py",
   "mimetype": "text/x-python",
   "name": "python",
   "nbconvert_exporter": "python",
   "pygments_lexer": "ipython3",
   "version": 3
  },
  "orig_nbformat": 2,
  "kernelspec": {
   "name": "python_defaultSpec_1597153606036",
   "display_name": "Python 3.7.7 64-bit ('tensorflow_env': conda)"
  }
 },
 "nbformat": 4,
 "nbformat_minor": 2,
 "cells": [
  {
   "cell_type": "code",
   "execution_count": 28,
   "metadata": {
    "tags": []
   },
   "outputs": [
    {
     "output_type": "stream",
     "name": "stderr",
     "text": "80.0\n"
    }
   ],
   "source": [
    "import mysql.connector\n",
    "from neupy import algorithms\n",
    "\n",
    "\n",
    "mydb = mysql.connector.connect(\n",
    "  host=\"localhost\",\n",
    "  user=\"root\",\n",
    "  password=\"\",\n",
    "  database =\"db_rimpang\"\n",
    ")\n",
    "mycursor = mydb.cursor()\n",
    "\n",
    "mycursor.execute(\"SELECT  `red1`, `red2`, `red3`, `green1`, `green2`, `green3`, `blue1`, `blue2`, `blue3`, `target` FROM tb_data where status = 1 ORDER BY target ASC\")\n",
    "data_bobot = []\n",
    "target_bobot = []\n",
    "for x in mycursor.fetchall():\n",
    "    data_bobot.append(list(x[0:9]))\n",
    "    target_bobot.append(int(x[-1]))\n",
    "lvqnet = algorithms.LVQ(n_inputs=9, n_classes=4, n_subclasses = 20, step=0.0015)\n",
    "# lvq.bobot_awal(data_bobot,1000,0.0001,0.15,0.001)\n",
    "\n",
    "mycursor.execute(\"SELECT  `red1`, `red2`, `red3`, `green1`, `green2`, `green3`, `blue1`, `blue2`, `blue3`, `target` FROM tb_data where status = 2 ORDER BY target ASC\")\n",
    "data_train = []\n",
    "target_train = []\n",
    "for x in mycursor.fetchall():\n",
    "    data_train.append(list(x[0:9]))\n",
    "    target_train.append(int(x[-1]))\n",
    "lvqnet.train(data_train, target_train, epochs=1000)\n",
    "# lvq.do_lvq(data_train, target_train)\n",
    "\n",
    "data = []\n",
    "target =[]\n",
    "mycursor.execute(\"SELECT  `red1`, `red2`, `red3`, `green1`, `green2`, `green3`, `blue1`, `blue2`, `blue3`, `target` FROM tb_data where status = 0 ORDER BY target ASC\")\n",
    "data_test = []\n",
    "target_test =[]\n",
    "for x in mycursor.fetchall():\n",
    "    data_test.append(list(x[0:9]))\n",
    "    target_test.append(int(x[-1]))\n",
    "# lvq.test_do(data_test, target_test)\n",
    "p = lvqnet.predict(data_test)\n",
    "# print(target_test)\n",
    "benar = 0\n",
    "salah = 0\n",
    "for i in range(len(target_test)):\n",
    "    if target_test[i]==p[i]:\n",
    "        benar+=1\n",
    "    else:\n",
    "        salah+=1\n",
    "# print(benar,salah)\n",
    "print(benar/(benar+salah)*100)"
   ]
  }
 ]
}